{
 "cells": [
  {
   "cell_type": "markdown",
   "metadata": {},
   "source": [
    "# Bio 302 Homework 6\n",
    "\n",
    "There are two parts to this homework, some problems given in this notebook and some problems from the textbook. Note that some sections of Chapter 5, and all of Chapter 6, is strongly-suggested background reading.\n",
    "\n",
    "**Part 1: Notebook**\n",
    "\n",
    "Complete the python/exploration problems in this notebook. Please solve them in the indicated space, and ensure that your solutions pass all supplied tests.\n",
    "\n",
    "**Part 2: Textbook**\n",
    "\n",
    "Read sections of Chapter 5 pertaining to PSI-BLAST. Feel free to look over the remaining method.\n",
    "\n",
    "Read Chapter 6, on multiple sequence alignment.\n",
    "\n",
    "Chapter 6 Discussion Questions: 6-1; Problems/Computer Lab: 6-1, 6-2\n",
    "\n",
    "Please use the *FOXP2* sequence data you'll assemble for Problem 3 in this notebook as the input for the computer lab exercises 6-1 and 6-2 above. Two birds.\n",
    "\n",
    "**Submission**\n",
    "\n",
    "Submit your solutions as a link to a Gist via a Slack DM."
   ]
  },
  {
   "cell_type": "code",
   "execution_count": null,
   "metadata": {
    "collapsed": true
   },
   "outputs": [],
   "source": [
    "# -- Some standard imports for the plotting package matplotlib,\n",
    "#    and some setup. You'll want to leave these as is.\n",
    "import matplotlib.pyplot as plt\n",
    "%matplotlib inline\n",
    "plt.rcParams['figure.figsize'] = [12.0, 8.0]"
   ]
  },
  {
   "cell_type": "markdown",
   "metadata": {
    "collapsed": true
   },
   "source": [
    "## Problem 1\n",
    "\n",
    "Run a PSI-BLAST at NCBI on the protein sequence\n",
    "included in \"mystery_seq.fasta.\" Use Expect threshold\n",
    "= 0.1, Word size = 2, and leave all other parameters\n",
    "at their defaults. Use database = 'nr'.\n",
    "\n",
    "(a) How many hits have an initial e-value of 1e-5 or\n",
    "    smaller in the first (blastp) iteration?\n",
    "\n",
    "(b) Use the default inclusion cutoff, and run\n",
    "    iteration 2.  How many new proteins could be found\n",
    "    with an evalue better than 1e-5 on this iteration?\n",
    "    How many iterations do you have to repeat until no\n",
    "    new sequences can be found? (If it does not\n",
    "    converge after 6 iterations, stop.)\n",
    "\n",
    "(c) Click on the \"Distance tree of results\" at the\n",
    "    bottom of the page to see a phylogenetic\n",
    "    representation of all the hits found.  Is this\n",
    "    protein unique to this species or just\n",
    "    Crenarchaea, just Archaea, just Archaea &\n",
    "    Bacteria, or is it found in all three domains of\n",
    "    life?\n",
    "\n",
    "(d) Based on the e-value and percent identity against\n",
    "    the top scoring hit of newly-found sequences, do\n",
    "    you think these hit sequences are orthologs (same\n",
    "    function), paralogs (related function), or have\n",
    "    unrelated function?"
   ]
  },
  {
   "cell_type": "markdown",
   "metadata": {},
   "source": [
    "[Solution to Problem 1 here, or in separate document.]"
   ]
  },
  {
   "cell_type": "markdown",
   "metadata": {},
   "source": [
    "## Problem 2\n",
    "\n",
    "Write a function called `count_msa_gaps`, that\n",
    "invokes the program `muscle` to compute a multiple\n",
    "sequence alignment.\n",
    "\n",
    "I've included muscle executables for both mac and windows in the repository, for convenience. They come from \n",
    "\n",
    " http://www.drive5.com/muscle/downloads.htm\n",
    "\n",
    "Several useful functions are provided to you, below. You should study them and incorporate them into your solutions, because that will save you a bunch of time.\n",
    "\n",
    "- `run_command` This runs a system command that you specify as a list of strings. See examples.\n",
    "- `get_os` This will tell you what kind of system you're on. (Alternatively, just use the muscle binary appropriate to your system.) See examples.\n",
    "- `read_fasta_text` This you've seen before. The one difference is that you pass it fasta text as an argument, instead of a filename.\n",
    "\n",
    "There are a couple examples of `muscle` being invoked with `run_command`. Its output gets collected into a dictionary with keys `output` and `error`. The former is for normal program output, typically the actual MSA. The latter is for genuine errors, or more often just for progress messages that you wouldn't want cluttering the output.\n",
    "\n",
    "Your function `count_msa_gaps` should take one\n",
    "argument, the name of a fasta file. It should invoke muscle with\n",
    "no extra arguments, capture its output, and print the\n",
    "proportion of each sequence that was gaps.\n",
    "\n",
    "Here is an example run of `count_msa_gaps` over the provided sample file, `actn3.fasta`. Your function should produce the same output.\n",
    "\n",
    "```\n",
    "> count_msa_gaps('actn3.fasta')\n",
    "gi|66365807|gb|AAH96323.1| ACTN3 protein [Homo sapiens],0.31\n",
    "gi|183985943|gb|AAI66600.1| Actn3 protein [Rattus norvegicus],0.00\n",
    "gi|7304855|ref|NP_038484.1| alpha-actinin-3 [Mus musculus],0.00\n",
    "```\n",
    "\n",
    "That is, muscle did not add any gaps to the mouse or\n",
    "rat ACTN3 protein sequences, but fully 31% of the\n",
    "multiply-aligned human sequence was gaps. Makes sense;\n",
    "the human sequence is way longer than the mouse/rat\n",
    "sequences!"
   ]
  },
  {
   "cell_type": "code",
   "execution_count": null,
   "metadata": {
    "collapsed": true
   },
   "outputs": [],
   "source": [
    "import subprocess\n",
    "def run_command(args):\n",
    "    \"Run a command-line, provided as a list of args, and return the result.\"\n",
    "    proc = subprocess.Popen(args,\n",
    "                            stdout=subprocess.PIPE,\n",
    "                            stderr=subprocess.PIPE)\n",
    "    stdout, stderr = map(lambda x: x.strip().decode('utf-8'), proc.communicate())\n",
    "    return dict(\n",
    "        output=stdout,\n",
    "        error=stderr,\n",
    "    )"
   ]
  },
  {
   "cell_type": "code",
   "execution_count": null,
   "metadata": {
    "collapsed": false
   },
   "outputs": [],
   "source": [
    "import sys\n",
    "def get_os():\n",
    "    \"Returns 'mac_os_x' if you're on a mac, 'windows' if on windows.\"\n",
    "    my_os = sys.platform\n",
    "    if my_os == 'darwin':\n",
    "        return 'mac_os_x'\n",
    "    elif my_os == 'win32':\n",
    "        return 'windows'\n",
    "    else:\n",
    "        return None"
   ]
  },
  {
   "cell_type": "markdown",
   "metadata": {},
   "source": [
    "Here's an example of using `run_command` to invoke `muscle`. It shows what happens if you call `muscle` without any additional arguments:"
   ]
  },
  {
   "cell_type": "code",
   "execution_count": null,
   "metadata": {
    "collapsed": true
   },
   "outputs": [],
   "source": [
    "my_os = get_os()\n",
    "\n",
    "if my_os == 'mac_os_x':\n",
    "    result = run_command('./muscle3.8.31_i86darwin64')\n",
    "else:\n",
    "    result = run_command('./muscle3.8.31_i86win32.exe')\n",
    "print(\"[OUTPUT]\\n\", result['output'])\n",
    "print(\"[ERROR]\\n\", result['error'])"
   ]
  },
  {
   "cell_type": "markdown",
   "metadata": {},
   "source": [
    "This example shows how to provide `muscle` with arguments. Note that the list we pass in to `run_command` is a regular python list, so you're free to use variables, string operations, list operations, all the usual python stuff in constructing such lists.\n",
    "\n",
    "You may wish to consult the `muscle` manual to see all the arguments it accepts. Here are the main options:\n",
    "\n",
    "http://www.drive5.com/muscle/manual/options.html\n",
    "\n",
    "And here is the exhaustive list of all the tuning options muscle knows about:\n",
    "\n",
    "http://www.drive5.com/muscle/manual/valueopts.html"
   ]
  },
  {
   "cell_type": "code",
   "execution_count": null,
   "metadata": {
    "collapsed": true
   },
   "outputs": [],
   "source": [
    "# this amounts to running \"./muscle3.8.31_i86darwin64 -in test.fasta\" in a system terminal\n",
    "if my_os == 'mac_os_x':\n",
    "    result = run_command(['./muscle3.8.31_i86darwin64', '-in', 'test.fasta'])\n",
    "else:\n",
    "    result = run_command(['./muscle3.8.31_i86win32.exe', '-in', 'test.fasta'])\n",
    "print(\"[OUTPUT]\\n\", result['output'])\n",
    "print(\"[ERROR]\\n\", result['error'])"
   ]
  },
  {
   "cell_type": "code",
   "execution_count": null,
   "metadata": {
    "collapsed": true
   },
   "outputs": [],
   "source": [
    "def read_fasta_text(fasta_text):\n",
    "    'Returns a list of dictionaries of header/sequence pairs from FASTA-formatted text.'\n",
    "    out = []\n",
    "    for seqrec in fasta_text.split('>'):\n",
    "        if not seqrec:\n",
    "            continue\n",
    "        lines = seqrec.split('\\n')\n",
    "        header = lines[0]\n",
    "        seq = ''.join(lines[1:])\n",
    "        out.append(dict(header=header, sequence=seq))\n",
    "    return out"
   ]
  },
  {
   "cell_type": "code",
   "execution_count": null,
   "metadata": {
    "collapsed": false
   },
   "outputs": [],
   "source": [
    "# -- Solution to Problem 2 here."
   ]
  },
  {
   "cell_type": "markdown",
   "metadata": {
    "collapsed": true
   },
   "source": [
    "## Problem 3\n",
    "\n",
    "Re-use your function from Problem 2 to study the\n",
    "effect of gap cost on multiple sequence alignments.\n",
    "\n",
    "Grab the *protein* sequences derived from the gene\n",
    "*FOXP2* for human (Homo sapiens), chimp (Pan\n",
    "troglodytes), mouse (Mus musculus), cow (Bos taurus),\n",
    "and African clawed frog (Xenopus laevis).  Each\n",
    "sequence should be about 700 amino acids\n",
    "long. Further, attempt to grab proteins named\n",
    "something like \"FOXP2 forkhead box P2 [ Homo sapiens\n",
    "(human) ]\"; ie, avoid the ones that have 'isoform' or\n",
    "'splice variant' or other qualifiers in the title. Put\n",
    "all the sequences into a single fasta file called\n",
    "`foxp2_proteins.fasta`, and include it in your\n",
    "submission.\n",
    "\n",
    "The program should set muscle's `gapopen` cost\n",
    "in turn to -0.1, -1.0, -10.0, and -100.0. The\n",
    "`gapextend` cost should always be -1.0. For each value\n",
    "of `gapopen`, compute the proportion of the entire\n",
    "alignment that was gaps. Use matplotlib to plot this\n",
    "proportion as a function of the muscle `gapopen` cost,\n",
    "and be sure the plot appears in this notebook. Label\n",
    "the plot appropriately.\n",
    "\n",
    "You may wish to consult muscle's documentation, linked above.\n",
    "\n",
    "\n",
    "Discuss the plot that you've produced. In particular:\n",
    "\n",
    "1. Describe and interpret the\n",
    "pattern of dependence that you observe.\n",
    "2. Does the pattern you see make sense to you?\n",
    "3. Is the dependence on gapopen cost stronger or weaker than you'd expect?"
   ]
  },
  {
   "cell_type": "code",
   "execution_count": null,
   "metadata": {
    "collapsed": true
   },
   "outputs": [],
   "source": [
    "# Solution to Problem 3 here."
   ]
  }
 ],
 "metadata": {
  "kernelspec": {
   "display_name": "Python 3",
   "language": "python",
   "name": "python3"
  },
  "language_info": {
   "codemirror_mode": {
    "name": "ipython",
    "version": 3
   },
   "file_extension": ".py",
   "mimetype": "text/x-python",
   "name": "python",
   "nbconvert_exporter": "python",
   "pygments_lexer": "ipython3",
   "version": "3.5.1"
  }
 },
 "nbformat": 4,
 "nbformat_minor": 0
}
